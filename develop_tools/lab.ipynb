{
 "cells": [
  {
   "cell_type": "code",
   "execution_count": 4,
   "outputs": [
    {
     "name": "stdout",
     "output_type": "stream",
     "text": [
      "{'status': 'FAIL', 'code': '400002', 'errorMessage': 'Signature for this request is not valid.'}\n"
     ]
    }
   ],
   "source": [
    "from binance.pay.merchant import Merchant as Client\n",
    "\n",
    "\n",
    "# Setup merchant API from https://merchant.binance.com/en/dashboard/developers\n",
    "api_key = '8fse3lvf61zqmxnghkgheolth0ffoh2yibsl306qwunytjw1kcdn8jstz8hg1v0l'\n",
    "api_secret = '8fse3lvf61zqmxnghkgheolth0ffoh2yibsl306qwunytjw1kcdn8jstz8hg1v0l'\n",
    "client = Client(key=api_key, secret=api_secret)\n",
    "\n",
    "parameters = {\n",
    "    # \"env\": {\"terminalType\": \"MINI_PROGRAM\"},\n",
    "    # \"merchantTradeNo\": \"2223\",\n",
    "    # \"orderAmount\": 1.00,\n",
    "    # \"currency\": \"USDT\",\n",
    "    # \"goods\": {\n",
    "    #     \"goodsType\": \"01\",\n",
    "    #     \"goodsCategory\": \"0000\",\n",
    "    #     \"referenceGoodsId\": \"abc001\",\n",
    "    #     \"goodsName\": \"apple\",\n",
    "    #     \"goodsUnitAmount\": {\"currency\": \"USDT\", \"amount\": 1.00},\n",
    "    # },\n",
    "    # \"shipping\": {\n",
    "    #     \"shippingName\": {\"firstName\": \"Joe\", \"lastName\": \"Don\"},\n",
    "    #     \"shippingAddress\": {\"region\": \"NZ\"},\n",
    "    # },\n",
    "    # \"buyer\": {\"buyerName\": {\"firstName\": \"cz\", \"lastName\": \"zhao\"}},\n",
    "}\n",
    "\n",
    "response = client.new_order(parameters)\n",
    "print(response)\n"
   ],
   "metadata": {
    "collapsed": false,
    "pycharm": {
     "name": "#%%\n"
    }
   }
  }
 ],
 "metadata": {
  "kernelspec": {
   "display_name": "Python 3",
   "language": "python",
   "name": "python3"
  },
  "language_info": {
   "codemirror_mode": {
    "name": "ipython",
    "version": 2
   },
   "file_extension": ".py",
   "mimetype": "text/x-python",
   "name": "python",
   "nbconvert_exporter": "python",
   "pygments_lexer": "ipython2",
   "version": "2.7.6"
  }
 },
 "nbformat": 4,
 "nbformat_minor": 0
}