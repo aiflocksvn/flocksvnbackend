{
 "cells": [
  {
   "cell_type": "code",
   "execution_count": 1,
   "outputs": [
    {
     "data": {
      "text/plain": "(True, 'mail successfully sent.')"
     },
     "execution_count": 1,
     "metadata": {},
     "output_type": "execute_result"
    }
   ],
   "source": [
    "\n",
    "\n",
    "\n",
    "import django\n",
    "import os\n",
    "\n",
    "os.environ.setdefault('DJANGO_SETTINGS_MODULE', 'EarlyBird.settings.development')\n",
    "os.environ['DJANGO_ALLOW_ASYNC_UNSAFE'] = 'true'\n",
    "django.setup()\n",
    "from utils.maile import send_mail\n",
    "from apps.authentication.models import SystemUser\n",
    "\n",
    "# from django.core.mail import send_mail\n",
    "# from utils.maile import send_mail\n",
    "# from apps.system_settings.models import SmtpConfig\n",
    "#\n",
    "# # credential = SmtpConfig.objects.info_mail().normalized_config()\n",
    "# # print(credential)\n",
    "# SMTPServer:shadow.mxrouting.net\n",
    "# PORTS:\n",
    "# IMAP SSL: 993\n",
    "# IMAP Non-SSL: 143\n",
    "# POP3 SSL: 995\n",
    "# POP3 Non-SSL: 110\n",
    "# SMTP SSL: 465\n",
    "# SMTP Non-SSL/STARTTLS: 25, 587\n",
    "# ========== FAQ:=====\n",
    "cred = dict(\n",
    "    host='shadow.mxrouting.net',\n",
    "    port=587,\n",
    "    username=\"info@flocks.vn\",\n",
    "    password=\"Letmein01\",\n",
    "    use_tls=True,\n",
    "    fail_silently=False,\n",
    ")\n",
    "admin_mail = 'ehsan.safir@microcis.net'\n",
    "# send_mail(credential, subject='Test Subject', recipient_list=[admin_mail],message='Test Message ')\n",
    "send_mail(cred, 'hello from ', [admin_mail], from_email=cred['username'], message='hellow wojt')\n"
   ],
   "metadata": {
    "collapsed": false,
    "pycharm": {
     "name": "#%%\n"
    }
   }
  }
 ],
 "metadata": {
  "kernelspec": {
   "display_name": "Python 3",
   "language": "python",
   "name": "python3"
  },
  "language_info": {
   "codemirror_mode": {
    "name": "ipython",
    "version": 2
   },
   "file_extension": ".py",
   "mimetype": "text/x-python",
   "name": "python",
   "nbconvert_exporter": "python",
   "pygments_lexer": "ipython2",
   "version": "2.7.6"
  }
 },
 "nbformat": 4,
 "nbformat_minor": 0
}