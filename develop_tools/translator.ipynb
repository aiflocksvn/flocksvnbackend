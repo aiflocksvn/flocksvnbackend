{
 "cells": [
  {
   "cell_type": "code",
   "execution_count": 13,
   "outputs": [],
   "source": [
    "import os\n",
    "import django\n",
    "from apps.questionnaire.models import Question\n",
    "\n",
    "os.environ.setdefault('DJANGO_SETTINGS_MODULE', 'EarlyBird.settings.development')\n",
    "os.environ['DJANGO_ALLOW_ASYNC_UNSAFE'] = 'true'\n",
    "django.setup()\n",
    "from googletrans import Translator\n",
    "from apps.questionnaire.models import QuestionDefaultAnswer\n",
    "translator = Translator()\n",
    "\n",
    "for item in QuestionDefaultAnswer.objects.all():\n",
    "    translation = translator.translate(item.answer_text, dest='vi', src='en')\n",
    "    item.answer_text_vi = translation.text\n",
    "    item.save()"
   ],
   "metadata": {
    "collapsed": false,
    "pycharm": {
     "name": "#%%\n"
    }
   }
  }
 ],
 "metadata": {
  "kernelspec": {
   "display_name": "Python 3",
   "language": "python",
   "name": "python3"
  },
  "language_info": {
   "codemirror_mode": {
    "name": "ipython",
    "version": 2
   },
   "file_extension": ".py",
   "mimetype": "text/x-python",
   "name": "python",
   "nbconvert_exporter": "python",
   "pygments_lexer": "ipython2",
   "version": "2.7.6"
  }
 },
 "nbformat": 4,
 "nbformat_minor": 0
}