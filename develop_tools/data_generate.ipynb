{
 "cells": [
  {
   "cell_type": "markdown",
   "source": [
    "## Faker Gist\n",
    "faker = Faker(locale=['fa_IR'])\n",
    "faker.providers\n",
    "faker.providers.address\n",
    "faker.providers.automotive\n",
    "faker.providers.bank\n",
    "faker.providers.barcode\n",
    "faker.providers.color\n",
    "faker.providers.company\n",
    "faker.providers.credit_card\n",
    "faker.providers.currency\n",
    "faker.providers.date_time\n",
    "faker.providers.file\n",
    "faker.providers.geo\n",
    "faker.providers.internet\n",
    "faker.providers.isbn\n",
    "faker.providers.job\n",
    "faker.providers.lorem\n",
    "faker.providers.misc\n",
    "faker.providers.person\n",
    "faker.providers.phone_number\n",
    "faker.providers.profile\n",
    "faker.providers.python\n",
    "faker.providers.ssn\n",
    "faker.providers.user_agent\n"
   ],
   "metadata": {
    "collapsed": false,
    "pycharm": {
     "name": "#%% md\n"
    }
   }
  },
  {
   "cell_type": "code",
   "execution_count": 2,
   "outputs": [
    {
     "data": {
      "text/plain": "[<BlogPost: BlogPost object (cce430ab-1db6-45a8-91ea-22bb91eabd1c)>,\n <BlogPost: BlogPost object (dff669e5-a446-4763-afef-1e0a8b7ee18d)>,\n <BlogPost: BlogPost object (edda8971-30f3-462a-8d79-a8110f9f0118)>,\n <BlogPost: BlogPost object (e4ffdc90-26e4-42fe-b6a8-40d94e8c86fc)>,\n <BlogPost: BlogPost object (f178385a-53c4-4361-b90c-54afb5fda469)>,\n <BlogPost: BlogPost object (e02c308b-7611-43b9-849c-6cab82e1ea04)>,\n <BlogPost: BlogPost object (1935fa8c-717e-49eb-be3e-6844a6bc4e65)>,\n <BlogPost: BlogPost object (8726c2ee-e9db-475d-b5f8-479b7d106b11)>,\n <BlogPost: BlogPost object (f27ddf89-4a39-4715-992b-645afd67786c)>,\n <BlogPost: BlogPost object (c862f1cd-4ea1-448e-b80f-c88bc1e65ca9)>,\n <BlogPost: BlogPost object (67674710-0c6f-478e-81df-769e9ed60373)>,\n <BlogPost: BlogPost object (6cd54b9e-c728-46a0-adf2-c27315353808)>,\n <BlogPost: BlogPost object (ebed886d-a930-4009-9b99-1965993705ec)>,\n <BlogPost: BlogPost object (09a10ca9-3338-47ba-9e7b-1d46befa2d1e)>,\n <BlogPost: BlogPost object (50f0fc6f-c58f-4651-8180-f800daebff91)>]"
     },
     "execution_count": 2,
     "metadata": {},
     "output_type": "execute_result"
    }
   ],
   "source": [
    "\n",
    "import os\n",
    "\n",
    "import django\n",
    "\n",
    "os.environ.setdefault('DJANGO_SETTINGS_MODULE', 'EarlyBird.settings.development')\n",
    "os.environ['DJANGO_ALLOW_ASYNC_UNSAFE'] = 'true'\n",
    "django.setup()\n",
    "import factory\n",
    "from factory.django import DjangoModelFactory\n",
    "\n",
    "from apps.authentication.models import SystemUser\n",
    "\n",
    "from apps.learning_board.models import BlogCategory, BlogPost\n",
    "\n",
    "\n",
    "\n",
    "class UserFactory(DjangoModelFactory):\n",
    "    class Meta:\n",
    "        model = SystemUser\n",
    "\n",
    "    email = factory.Faker('free_email')\n",
    "    first_name = factory.Faker('first_name')\n",
    "    last_name = factory.Faker('last_name')\n",
    "    is_verified = factory.Faker('pybool')\n",
    "\n",
    "\n",
    "class BlogCategoryFactory(DjangoModelFactory):\n",
    "    class Meta:\n",
    "        model = BlogCategory\n",
    "        django_get_or_create = ('name',)\n",
    "\n",
    "    name = factory.Faker('word')\n",
    "\n",
    "\n",
    "class BlogPostFactory(DjangoModelFactory):\n",
    "    class Meta:\n",
    "        model = BlogPost\n",
    "\n",
    "    author = factory.SubFactory(UserFactory)\n",
    "    created_at = factory.Faker('date_time')\n",
    "    modified_at = factory.Faker('date_time')\n",
    "    title = factory.Faker('text')\n",
    "    category = factory.SubFactory(BlogCategoryFactory)\n",
    "    excerpt = factory.Faker('sentence')\n",
    "    raw_content = factory.Faker('sentence')\n",
    "    content = factory.Faker('sentence')\n",
    "    post_status = factory.Faker('random_element', elements=[BlogPost.DRAFT, BlogPost.PUBLISH])\n",
    "    comment_status = factory.Faker('random_element', elements=(BlogPost.CLOSE, BlogPost.OPEN))\n",
    "\n",
    "\n",
    "BlogPostFactory.create_batch(15)\n",
    "# blog = BlogPostFactory()\n",
    "\n",
    "# blog.create()\n",
    "# list(SystemUser.objects.all().values_list('id', flat=True))\n",
    "# list(SystemUser.objects.all().values_list('id', flat=True))\n"
   ],
   "metadata": {
    "collapsed": false,
    "pycharm": {
     "name": "#%%\n"
    }
   }
  }
 ],
 "metadata": {
  "kernelspec": {
   "display_name": "Python 3",
   "language": "python",
   "name": "python3"
  },
  "language_info": {
   "codemirror_mode": {
    "name": "ipython",
    "version": 2
   },
   "file_extension": ".py",
   "mimetype": "text/x-python",
   "name": "python",
   "nbconvert_exporter": "python",
   "pygments_lexer": "ipython2",
   "version": "2.7.6"
  }
 },
 "nbformat": 4,
 "nbformat_minor": 0
}