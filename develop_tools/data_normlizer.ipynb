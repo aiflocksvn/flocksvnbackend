{
 "cells": [
  {
   "cell_type": "code",
   "execution_count": 52,
   "outputs": [],
   "source": [
    "import json\n",
    "\n",
    "from faker import Faker\n",
    "\n",
    "fake = Faker(['fa_IR'])\n",
    "\n",
    "\n",
    "def load_json(file_name):\n",
    "    with open(file_name, 'r') as file:\n",
    "        return json.load(file)\n",
    "\n",
    "\n",
    "def dump_json(file_data, file_name):\n",
    "    with open(file_name, 'w') as file:\n",
    "        json.dump(fp=file, obj=file_data, ensure_ascii=False)\n",
    "\n",
    "\n",
    "def normalize_data(file_data):\n",
    "    for product in file_data:\n",
    "        product['rate'] = int(product['rate'])\n",
    "        product['category_id'] = int(product['category_id'])\n",
    "        product['each_price'] = int(product['each_price'])\n",
    "        product['product_id'] = int(product['product_id'])\n",
    "        product['dec'] = fake.sentence(nb_words=60, variable_nb_words=True)\n",
    "        product['image'] = f\"require('./../../img/products/{product['image']}')\"\n",
    "\n",
    "\n",
    "file_name = 'data_csv.json'\n",
    "file_data = load_json(file_name)\n",
    "normalize_data(file_data)\n",
    "dump_json(file_data, 'file1.json')"
   ],
   "metadata": {
    "collapsed": false,
    "pycharm": {
     "name": "#%%\n"
    }
   }
  },
  {
   "cell_type": "code",
   "execution_count": null,
   "outputs": [],
   "source": [],
   "metadata": {
    "collapsed": false,
    "pycharm": {
     "name": "#%%\n"
    }
   }
  }
 ],
 "metadata": {
  "kernelspec": {
   "display_name": "Python 3",
   "language": "python",
   "name": "python3"
  },
  "language_info": {
   "codemirror_mode": {
    "name": "ipython",
    "version": 2
   },
   "file_extension": ".py",
   "mimetype": "text/x-python",
   "name": "python",
   "nbconvert_exporter": "python",
   "pygments_lexer": "ipython2",
   "version": "2.7.6"
  }
 },
 "nbformat": 4,
 "nbformat_minor": 0
}