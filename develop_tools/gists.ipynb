{
 "cells": [
  {
   "cell_type": "markdown",
   "source": [
    "#### postman set jwt dynamic\n",
    "    const response = pm.response.json()\n",
    "    pm.environment.set('JWT',response.accessToken)\n",
    "\n"
   ],
   "metadata": {
    "collapsed": false,
    "pycharm": {
     "name": "#%% md\n"
    }
   }
  },
  {
   "cell_type": "markdown",
   "source": [
    "# Postman Import Collection\n",
    "    url: http://localhost:8000/api/v1/schema/\n",
    "\n",
    "    const response = pm.response.json()\n",
    "    pm.environment.set('JWT',response.accessToken)\n",
    "\n",
    "        {\n",
    "          \"email\": \"muslem.safir@microcis.net\",\n",
    "          \"password\": \"Apple123#\"\n",
    "         }\n"
   ],
   "metadata": {
    "collapsed": false,
    "pycharm": {
     "name": "#%% md\n"
    }
   }
  },
  {
   "cell_type": "markdown",
   "source": [
    "// Access the response data JSON as a JavaScript object\n",
    "const res = pm.response.json();\n",
    "const graph_dat = pm.response.json().graphData;\n",
    "\n",
    "console.log(res.graphData)\n",
    "var labels = graph_dat.map(function(a) {return a.createdAt;});\n",
    "var data = graph_dat.map(function(a) {return a.available;});\n",
    "// -----------------------------\n",
    "// - Structure data for charts -\n",
    "// -----------------------------\n",
    "\n",
    "// EDIT THIS OBJECT TO BIND YOUR DATA\n",
    "const vizData = {\n",
    "\n",
    "    // Labels take an array of strings\n",
    "    labels: labels,\n",
    "\n",
    "    // Data takes an array of numbers\n",
    "    data: data\n",
    "};\n",
    "\n",
    "// ------------\n",
    "// - Template -\n",
    "// ------------\n",
    "\n",
    "// Configure the template\n",
    "var template = `\n",
    "<canvas id=\"myChart\" height=\"75\"></canvas>\n",
    "\n",
    "<script src=\"https://cdnjs.cloudflare.com/ajax/libs/Chart.js/2.5.0/Chart.min.js\"></script>\n",
    "\n",
    "<script>\n",
    "    // Get DOM element to render the chart in\n",
    "    var ctx = document.getElementById(\"myChart\").getContext('2d');\n",
    "\n",
    "    // Configure Chart JS here.\n",
    "    // You can customize the options passed to this constructor to\n",
    "    // make the chart look and behave the way you want\n",
    "    var myChart = new Chart(ctx, {\n",
    "        type: \"line\",\n",
    "        data: {\n",
    "            labels: [], // We will update this later in pm.getData()\n",
    "            datasets: [{\n",
    "                data: [], // We will update this later in pm.getData()\n",
    "\n",
    "                // Change these colours to customize the chart\n",
    "                backgroundColor: [\"#003f5c\", \"#58508d\", \"#bc5090\", \"#ff6361\", \"#ffa600\"],\n",
    "            }]\n",
    "        },\n",
    "        options: {\n",
    "            legend: { display: true },\n",
    "            title: {\n",
    "                display: true,\n",
    "                text: 'Total Client'\n",
    "            },\n",
    "\n",
    "\n",
    "\n",
    "\n",
    "            scales: {\n",
    "                xAxes: [{\n",
    "                    display: true,\n",
    "                    scaleLabel: {\n",
    "                        display: true,\n",
    "                        labelString: 'Items'\n",
    "                    }\n",
    "                }],\n",
    "                yAxes: [{\n",
    "                    display: true,\n",
    "                    scaleLabel: {\n",
    "                        display: true,\n",
    "                        labelString: 'mesurment'\n",
    "                    }\n",
    "                }]\n",
    "            }\n",
    "        }\n",
    "\n",
    "    });\n",
    "\n",
    "    // Access the data passed to pm.visualizer.set() from the JavaScript\n",
    "    // code of the Visualizer template\n",
    "    pm.getData(function (err, value) {\n",
    "        myChart.data.datasets[0].data = value.data;\n",
    "        myChart.data.labels = value.labels;\n",
    "        myChart.update();\n",
    "    });\n",
    "\n",
    "</script>`;\n",
    "\n",
    "// -------------------------\n",
    "// - Bind data to template -\n",
    "// -------------------------\n",
    "\n",
    "// Set the visualizer template\n",
    "pm.visualizer.set(template, vizData);"
   ],
   "metadata": {
    "collapsed": false,
    "pycharm": {
     "name": "#%% md\n"
    }
   }
  },
  {
   "cell_type": "code",
   "execution_count": null,
   "outputs": [],
   "source": [],
   "metadata": {
    "collapsed": false,
    "pycharm": {
     "name": "#%%\n"
    }
   }
  },
  {
   "cell_type": "markdown",
   "source": [
    "## NGINX Config UPload server\n",
    "```\n",
    "server {\n",
    "    client_max_body_size 400M;\n",
    "\n",
    "    server_name uploads.anarsupermarket.website www.uploads.anarsupermarket.website ;\n",
    "\n",
    "\n",
    "    location  /media/public/ {\n",
    "         autoindex on;\n",
    "          alias /home/earlybird_serivce/run/media/public/;\n",
    "    }\n",
    "\n",
    "\n",
    "\n",
    "\n",
    "    listen [::]:443 ssl; # managed by Certbot\n",
    "    listen 443 ssl; # managed by Certbot\n",
    "    ssl_certificate /etc/letsencrypt/live/anarsupermarket.website/fullchain.pem; # managed by Certbot\n",
    "    ssl_certificate_key /etc/letsencrypt/live/anarsupermarket.website/privkey.pem; # managed by Certbot\n",
    "    include /etc/letsencrypt/options-ssl-nginx.conf; # managed by Certbot\n",
    "    ssl_dhparam /etc/letsencrypt/ssl-dhparams.pem; # managed by Certbot\n",
    "\n",
    "\n",
    "}\n",
    "\n",
    "\n",
    "server {\n",
    "    if ($host = www.uploads.anarsupermarket.website) {\n",
    "        return 301 https://$host$request_uri;\n",
    "    } # managed by Certbot\n",
    "\n",
    "\n",
    "    if ($host = uploads.anarsupermarket.website) {\n",
    "        return 301 https://$host$request_uri;\n",
    "    } # managed by Certbot\n",
    "\n",
    "\n",
    "\n",
    "    listen 80;\n",
    "    listen [::]:80;\n",
    "\n",
    "    server_name uploads.anarsupermarket.website www.uploads.anarsupermarket.website ;\n",
    "    return 404; # managed by Certbot\n",
    "\n",
    "\n",
    "\n",
    "\n",
    "}```"
   ],
   "metadata": {
    "collapsed": false,
    "pycharm": {
     "name": "#%% md\n"
    }
   }
  },
  {
   "cell_type": "markdown",
   "source": [
    "### NGinx Server Config\n",
    "\n",
    "    ```pstream backend_server {\n",
    "        # docker will automatically resolve this to the correct address\n",
    "        # because we use the same name as the service: \"djangoapp\"\n",
    "        server localhost:8000;\n",
    "    }\n",
    "\n",
    "    # now we declare our main server\n",
    "    server {\n",
    "        client_max_body_size 100M;\n",
    "\n",
    "        server_name anarsupermarket.website www.anarsupermarket.website ;\n",
    "\n",
    "        location / {\n",
    "            # everything is passed to Gunicorn\n",
    "\n",
    "            proxy_pass http://backend_server;\n",
    "            proxy_set_header X-Forwarded-For $proxy_add_x_forwarded_for;\n",
    "            proxy_set_header Host $host;\n",
    "            proxy_redirect off;\n",
    "            proxy_set_header   X-Real-IP $remote_addr;\n",
    "            proxy_set_header   X-Forwarded-For $proxy_add_x_forwarded_for;\n",
    "\n",
    "            proxy_headers_hash_max_size 512;\n",
    "            proxy_headers_hash_bucket_size 128;\n",
    "        }\n",
    "        location /static/ {\n",
    "            alias /home/earlybird_serivce/run/static/;\n",
    "        }\n",
    "\n",
    "\n",
    "\n",
    "        listen [::]:443 ssl ipv6only=on; # managed by Certbot\n",
    "        listen 443 ssl; # managed by Certbot\n",
    "        ssl_certificate /etc/letsencrypt/live/anarsupermarket.website/fullchain.pem; # managed by Certbot\n",
    "        ssl_certificate_key /etc/letsencrypt/live/anarsupermarket.website/privkey.pem; # managed by Certbot\n",
    "        include /etc/letsencrypt/options-ssl-nginx.conf; # managed by Certbot\n",
    "        ssl_dhparam /etc/letsencrypt/ssl-dhparams.pem; # managed by Certbot\n",
    "\n",
    "\n",
    "    }\n",
    "\n",
    "\n",
    "\n",
    "    server {\n",
    "        if ($host = www.anarsupermarket.website) {\n",
    "            return 301 https://$host$request_uri;\n",
    "        } # managed by Certbot\n",
    "\n",
    "\n",
    "        if ($host = anarsupermarket.website) {\n",
    "            return 301 https://$host$request_uri;\n",
    "        } # managed by Certbot\n",
    "\n",
    "\n",
    "\n",
    "        listen 80;\n",
    "        listen [::]:80;\n",
    "\n",
    "        server_name anarsupermarket.website www.anarsupermarket.website ;\n",
    "        return 404; # managed by Certbot\n",
    "\n",
    "\n",
    "\n",
    "\n",
    "    }\n",
    "    ```"
   ],
   "metadata": {
    "collapsed": false,
    "pycharm": {
     "name": "#%% md\n"
    }
   }
  },
  {
   "cell_type": "markdown",
   "source": [
    "https://api.coindesk.com/v1/bpi/historical/close.json?start=2022-04-01&end=2022-04-11&index=[USD]"
   ],
   "metadata": {
    "collapsed": false,
    "pycharm": {
     "name": "#%% md\n"
    }
   }
  },
  {
   "cell_type": "markdown",
   "source": [
    "# postamn enviroment\n",
    "    {\n",
    "\t\"id\": \"9af31312-d109-41c1-996b-1926ec230bf6\",\n",
    "\t\"name\": \"VPS HOST\",\n",
    "\t\"values\": [\n",
    "\t\t{\n",
    "\t\t\t\"key\": \"HOST\",\n",
    "\t\t\t\"value\": \"\",\n",
    "\t\t\t\"type\": \"default\",\n",
    "\t\t\t\"enabled\": true\n",
    "\t\t},\n",
    "\t\t{\n",
    "\t\t\t\"key\": \"baseUrl\",\n",
    "\t\t\t\"value\": \"\",\n",
    "\t\t\t\"type\": \"default\",\n",
    "\t\t\t\"enabled\": true\n",
    "\t\t},\n",
    "\t\t{\n",
    "\t\t    \"key\": \"JWT\",\n",
    "\t\t\t\"value\": \"\",\n",
    "\t\t\t\"type\": \"default\",\n",
    "\t\t\t\"enabled\": true\n",
    "\t\t}\n",
    "\t],\n",
    "\t\"_postman_variable_scope\": \"environment\",\n",
    "\t\"_postman_exported_at\": \"2022-02-22T07:19:40.423Z\",\n",
    "\t\"_postman_exported_using\": \"Postman/9.13.2\"\n",
    "    }"
   ],
   "metadata": {
    "collapsed": false,
    "pycharm": {
     "name": "#%% md\n"
    }
   }
  },
  {
   "cell_type": "markdown",
   "source": [
    "    class AdvanceDjangoConnectionField(DjangoConnectionField):\n",
    "        def __init__(self, type, fields=None, order_by=None,\n",
    "                     extra_filter_meta=None, filterset_class=None,\n",
    "                     *args, **kwargs):\n",
    "            # self._type = type\n",
    "            # self._fields = fields\n",
    "            # self._provided_filterset_class = filterset_class\n",
    "            # self._filterset_class = None\n",
    "            # self._extra_filter_meta = extra_filter_meta\n",
    "            # self._base_args = None\n",
    "            super(AdvanceDjangoConnectionField, self).__init__(\n",
    "                type,\n",
    "                *args,\n",
    "                **kwargs\n",
    "            )\n",
    "\n",
    "        @property\n",
    "        def type(self):\n",
    "            class NodeConnection(graphene.Connection):\n",
    "                total_count = graphene.Int()\n",
    "\n",
    "                class Meta:\n",
    "                    node = self._type\n",
    "                    name = '{}Connection'.format(self._type._meta.name)\n",
    "\n",
    "                def resolve_total_count(self, info, **kwargs):\n",
    "                    return self.iterable.count()\n",
    "\n",
    "            return NodeConnection"
   ],
   "metadata": {
    "collapsed": false,
    "pycharm": {
     "name": "#%% md\n"
    }
   }
  },
  {
   "cell_type": "markdown",
   "source": [
    "    created_at = models.DateTimeField(auto_now_add=True)\n",
    "    modified_at = models.DateTimeField(auto_now=True)\n"
   ],
   "metadata": {
    "collapsed": false,
    "pycharm": {
     "name": "#%% md\n"
    }
   }
  }
 ],
 "metadata": {
  "kernelspec": {
   "display_name": "Python 3",
   "language": "python",
   "name": "python3"
  },
  "language_info": {
   "codemirror_mode": {
    "name": "ipython",
    "version": 2
   },
   "file_extension": ".py",
   "mimetype": "text/x-python",
   "name": "python",
   "nbconvert_exporter": "python",
   "pygments_lexer": "ipython2",
   "version": "2.7.6"
  }
 },
 "nbformat": 4,
 "nbformat_minor": 0
}