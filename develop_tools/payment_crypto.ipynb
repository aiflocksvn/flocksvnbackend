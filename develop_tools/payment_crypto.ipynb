{
 "cells": [
  {
   "cell_type": "code",
   "execution_count": 40,
   "outputs": [
    {
     "name": "stdout",
     "output_type": "stream",
     "text": [
      "{'status': 'SUCCESS', 'code': '000000', 'data': {'prepayId': '172436896651599872', 'terminalType': 'WEB', 'expireTime': 1658137587159, 'qrcodeLink': 'https://public.bnbstatic.com/static/payment/20220718/1efc87b2-15e7-47ca-bd74-0ed1da91c7dd.jpg', 'qrContent': 'https://app.binance.com/qr/dplk323863520024492c902c43121bd28d90', 'checkoutUrl': 'https://pay.binance.com/en/checkout/36f016431b144c6eb1f90085155b3c33', 'deeplink': 'bnc://app.binance.com/payment/secpay?tempToken=6GhjMMENcJU3gk8kWK1D3b1w8mFFc531&returnLink=https://webhook.site/#!/dabd0099-e813-4d3c-bf64-0a338d3fa83e', 'universalUrl': 'https://app.binance.com/payment/secpay?linkToken=36f016431b144c6eb1f90085155b3c33&_dp=Ym5jOi8vYXBwLmJpbmFuY2UuY29tL3BheW1lbnQvc2VjcGF5P3RlbXBUb2tlbj02R2hqTU1FTmNKVTNnazhrV0sxRDNiMXc4bUZGYzUzMSZyZXR1cm5MaW5rPWh0dHBzOi8vd2ViaG9vay5zaXRlLyMhL2RhYmQwMDk5LWU4MTMtNGQzYy1iZjY0LTBhMzM4ZDNmYTgzZQ=='}}\n"
     ]
    }
   ],
   "source": [
    "from binance.pay.merchant import Merchant as Client\n",
    "\n",
    "# Setup merchant API from https://merchant.binance.com/en/dashboard/developers\n",
    "api_key = 'lt59laezmrgcprzqt3c15r5cbeil2umwshc3zcpdku9amuvmmvp4nvv4muvune5b'\n",
    "api_secret = '9mx0nqatjdqfavhoga5xf3yrjsyjey0buwhj9tqxwiyipsswvlnio1oxe2sx1qml'\n",
    "client = Client(key=api_key, secret=api_secret)\n",
    "\n",
    "parameters = {\n",
    "    \"env\": {\n",
    "        \"terminalType\": \"WEB\",  # APP   WEB    WAP     MINI_PROGRAM   OTHERS\n",
    "    },\n",
    "    \"merchantTradeNo\": \"516762272113\",\n",
    "    \"orderAmount\": 1,  #Amount Range: 0.01 - 20000\n",
    "    \"currency\": \"USDT\",  # order currency in upper case. only \"BUSD\",\"USDT\",\"MBOX\" can be accepted, fiat NOT supported.\n",
    "    \"goods\": {\n",
    "        \"goodsType\": \"02\",\n",
    "        \"goodsCategory\": \"Z000\",\n",
    "        \"referenceGoodsId\": \"product_id\",  # The unique ID to identify the goods.\n",
    "        \"goodsName\": \"HomeBoxable Project\",\n",
    "        \"goodsDetail\": \"some desc project .....\",\n",
    "        \"goodsUnitAmount\": {\"currency\": \"USDT\", \"amount\": 120}\n",
    "    },\n",
    "    \"buyer\": {\n",
    "        \"buyerName\": {\"firstName\": \"cz\", \"lastName\": \"zhao\", 'middleName': \"middle name \"},\n",
    "        'buyerEmail': \"email\",\n",
    "        \"referenceBuyerId\": \"001\",\n",
    "        # \"buyerPhoneCountryCode\":\"\",\n",
    "        # \"buyerPhoneNo\":\"\",\n",
    "        # \"buyerRegistrationTime\":\"\",\n",
    "        # \"buyerBrowserLanguage\":\"\"\n",
    "    },\n",
    "    \"returnUrl\": \"https://webhook.site/#!/dabd0099-e813-4d3c-bf64-0a338d3fa83e\",\n",
    "    'cancelUrl': \"https://webhook.site/#!/dabd0099-e813-4d3c-bf64-0a338d3fa83e\",\n",
    "}\n",
    "\n",
    "response = client.new_order(parameters)\n",
    "print(response)\n"
   ],
   "metadata": {
    "collapsed": false,
    "pycharm": {
     "name": "#%%\n"
    }
   }
  },
  {
   "cell_type": "code",
   "execution_count": 11,
   "outputs": [
    {
     "data": {
      "text/plain": "{'status': 'SUCCESS',\n 'code': '000000',\n 'data': {'prepayId': '172630812318392320',\n  'terminalType': 'WEB',\n  'expireTime': 1658227886319,\n  'qrcodeLink': 'https://public.bnbstatic.com/static/payment/20220719/f3ab75fc-e625-4c76-bd56-518c3d4c5f79.jpg',\n  'qrContent': 'https://app.binance.com/qr/dplkedf75e4053d545b78fb57357c5919ab3',\n  'checkoutUrl': 'https://pay.binance.com/en/checkout/a651c32198ec49d0a9766fccb432ea66',\n  'deeplink': 'bnc://app.binance.com/payment/secpay?tempToken=Ry78ePK0XeQZLAD4iAhllNWhyYK4rlzH&returnLink=https://webhook.site/#!/dabd0099-e813-4d3c-bf64-0a338d3fa83e',\n  'universalUrl': 'https://app.binance.com/payment/secpay?linkToken=a651c32198ec49d0a9766fccb432ea66&_dp=Ym5jOi8vYXBwLmJpbmFuY2UuY29tL3BheW1lbnQvc2VjcGF5P3RlbXBUb2tlbj1SeTc4ZVBLMFhlUVpMQUQ0aUFobGxOV2h5WUs0cmx6SCZyZXR1cm5MaW5rPWh0dHBzOi8vd2ViaG9vay5zaXRlLyMhL2RhYmQwMDk5LWU4MTMtNGQzYy1iZjY0LTBhMzM4ZDNmYTgzZQ=='}}"
     },
     "execution_count": 11,
     "metadata": {},
     "output_type": "execute_result"
    }
   ],
   "source": [
    "from utils.payments_crypto import create_payment_link\n",
    "\n",
    "create_payment_link(trade_num='a12111', amount=0.1, company_id=\"comp-001\", company_name='homeland project',\n",
    "                    customer_email='ehsan@gmail.com', customer_id='cus-001', company_details='a very nice company',\n",
    "                    terminal_type='WEB'\n",
    "                    )\n"
   ],
   "metadata": {
    "collapsed": false,
    "pycharm": {
     "name": "#%%\n"
    }
   }
  }
 ],
 "metadata": {
  "kernelspec": {
   "display_name": "Python 3",
   "language": "python",
   "name": "python3"
  },
  "language_info": {
   "codemirror_mode": {
    "name": "ipython",
    "version": 2
   },
   "file_extension": ".py",
   "mimetype": "text/x-python",
   "name": "python",
   "nbconvert_exporter": "python",
   "pygments_lexer": "ipython2",
   "version": "2.7.6"
  }
 },
 "nbformat": 4,
 "nbformat_minor": 0
}